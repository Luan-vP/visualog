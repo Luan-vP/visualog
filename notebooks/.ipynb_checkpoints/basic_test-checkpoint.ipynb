{
 "cells": [
  {
   "cell_type": "code",
   "execution_count": null,
   "metadata": {},
   "outputs": [
    {
     "ename": "",
     "evalue": "",
     "output_type": "error",
     "traceback": [
      "\u001b[1;31mFailed to start the Kernel. \n",
      "\u001b[1;31mTraceback (most recent call last):\n",
      "\u001b[1;31m  File \"/Users/luanv/.vscode/extensions/ms-toolsai.jupyter-2022.9.1202862440/pythonFiles/vscode_datascience_helpers/jupyter_daemon.py\", line 158, in _start_notebook\n",
      "\u001b[1;31m    from notebook import notebookapp as app\n",
      "\u001b[1;31m  File \"/Users/luanv/.pyenv/versions/3.8.13/lib/python3.8/site-packages/notebook/notebookapp.py\", line 76, in <module>\n",
      "\u001b[1;31m    from .log import log_request\n",
      "\u001b[1;31m  File \"/Users/luanv/.pyenv/versions/3.8.13/lib/python3.8/site-packages/notebook/log.py\", line 10, in <module>\n",
      "\u001b[1;31m    from .prometheus.log_functions import prometheus_log_method\n",
      "\u001b[1;31m  File \"/Users/luanv/.pyenv/versions/3.8.13/lib/python3.8/site-packages/notebook/prometheus/log_functions.py\", line 1, in <module>\n",
      "\u001b[1;31m    from ..prometheus.metrics import HTTP_REQUEST_DURATION_SECONDS\n",
      "\u001b[1;31m  File \"/Users/luanv/.pyenv/versions/3.8.13/lib/python3.8/site-packages/notebook/prometheus/metrics.py\", line 12, in <module>\n",
      "\u001b[1;31m    HTTP_REQUEST_DURATION_SECONDS = Histogram(\n",
      "\u001b[1;31m  File \"/Users/luanv/.pyenv/versions/3.8.13/lib/python3.8/site-packages/prometheus_client/metrics.py\", line 558, in __init__\n",
      "\u001b[1;31m    super().__init__(\n",
      "\u001b[1;31m  File \"/Users/luanv/.pyenv/versions/3.8.13/lib/python3.8/site-packages/prometheus_client/metrics.py\", line 143, in __init__\n",
      "\u001b[1;31m    registry.register(self)\n",
      "\u001b[1;31m  File \"/Users/luanv/.pyenv/versions/3.8.13/lib/python3.8/site-packages/prometheus_client/registry.py\", line 43, in register\n",
      "\u001b[1;31m    raise ValueError(\n",
      "\u001b[1;31mValueError: Duplicated timeseries in CollectorRegistry: {'http_request_duration_seconds_created', 'http_request_duration_seconds', 'http_request_duration_seconds_sum', 'http_request_duration_seconds_count', 'http_request_duration_seconds_bucket'}\n",
      "\u001b[1;31m\n",
      "\u001b[1;31mDuring handling of the above exception, another exception occurred:\n",
      "\u001b[1;31m\n",
      "\u001b[1;31mTraceback (most recent call last):\n",
      "\u001b[1;31m  File \"/Users/luanv/.vscode/extensions/ms-toolsai.jupyter-2022.9.1202862440/pythonFiles/vscode_datascience_helpers/daemon/daemon_python.py\", line 54, in _decorator\n",
      "\u001b[1;31m    return func(self, *args, **kwargs)\n",
      "\u001b[1;31m  File \"/Users/luanv/.vscode/extensions/ms-toolsai.jupyter-2022.9.1202862440/pythonFiles/vscode_datascience_helpers/jupyter_daemon.py\", line 111, in m_exec_module_observable\n",
      "\u001b[1;31m    self._start_notebook(args, cwd, env)\n",
      "\u001b[1;31m  File \"/Users/luanv/.vscode/extensions/ms-toolsai.jupyter-2022.9.1202862440/pythonFiles/vscode_datascience_helpers/jupyter_daemon.py\", line 160, in _start_notebook\n",
      "\u001b[1;31m    from notebook import app as app\n",
      "\u001b[1;31mImportError: cannot import name 'app' from 'notebook' (/Users/luanv/.pyenv/versions/3.8.13/lib/python3.8/site-packages/notebook/__init__.py)\n",
      "\u001b[1;31m\n",
      "\u001b[1;31mFailed to run jupyter as observable with args notebook --no-browser --notebook-dir=\"/Users/luanv/Developer/visualog/notebooks\" --config=/var/folders/g_/7205h2_907xc6ymxnm_mbxkc0000gn/T/9735a7f6-0208-4d16-8483-075ffc268089/jupyter_notebook_config.py --NotebookApp.iopub_data_rate_limit=10000000000.0. \n",
      "\u001b[1;31mView Jupyter <a href='command:jupyter.viewOutput'>log</a> for further details."
     ]
    }
   ],
   "source": [
    "import logging\n",
    "from visualog import AudioFormatter\n",
    "\n",
    "logger = logging.getLogger(__name__)\n",
    "logger.setLevel(logging.DEBUG)\n",
    "handler = logging.StreamHandler()\n",
    "handler.setFormatter(AudioFormatter())\n",
    "logger.addHandler(handler)\n",
    "\n",
    "logger.info('test')\n"
   ]
  }
 ],
 "metadata": {
  "kernelspec": {
   "display_name": "Python 3 (ipykernel)",
   "language": "python",
   "name": "python3"
  },
  "language_info": {
   "codemirror_mode": {
    "name": "ipython",
    "version": 3
   },
   "file_extension": ".py",
   "mimetype": "text/x-python",
   "name": "python",
   "nbconvert_exporter": "python",
   "pygments_lexer": "ipython3",
   "version": "3.11.0+"
  },
  "vscode": {
   "interpreter": {
    "hash": "b0fa6594d8f4cbf19f97940f81e996739fb7646882a419484c72d19e05852a7e"
   }
  }
 },
 "nbformat": 4,
 "nbformat_minor": 2
}
